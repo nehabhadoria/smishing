{
 "cells": [
  {
   "cell_type": "code",
   "execution_count": 1,
   "id": "f18abc0f",
   "metadata": {
    "_cell_guid": "b1076dfc-b9ad-4769-8c92-a6c4dae69d19",
    "_uuid": "8f2839f25d086af736a60e9eeb907d3b93b6e0e5",
    "execution": {
     "iopub.execute_input": "2024-04-12T18:53:43.508984Z",
     "iopub.status.busy": "2024-04-12T18:53:43.507484Z",
     "iopub.status.idle": "2024-04-12T18:53:45.665025Z",
     "shell.execute_reply": "2024-04-12T18:53:45.664008Z",
     "shell.execute_reply.started": "2024-04-12T18:11:24.009387Z"
    },
    "papermill": {
     "duration": 2.171348,
     "end_time": "2024-04-12T18:53:45.665274",
     "exception": false,
     "start_time": "2024-04-12T18:53:43.493926",
     "status": "completed"
    },
    "tags": []
   },
   "outputs": [],
   "source": [
    "# This Python 3 environment comes with many helpful analytics libraries installed\n",
    "# It is defined by the kaggle/python Docker image: https://github.com/kaggle/docker-python\n",
    "# For example, here's several helpful packages to load\n",
    "\n",
    "import numpy as np # linear algebra\n",
    "import pandas as pd # data processing, CSV file I/O (e.g. pd.read_csv)\n",
    "\n",
    "# Input data files are available in the read-only \"../input/\" directory\n",
    "# For example, running this (by clicking run or pressing Shift+Enter) will list all files under the input directory\n",
    "import re\n",
    "\n",
    "import pandas as pd\n",
    "from nltk.corpus import stopwords\n",
    "from sklearn.ensemble import RandomForestClassifier\n",
    "from sklearn.feature_extraction.text import CountVectorizer, TfidfTransformer\n",
    "from sklearn.metrics import classification_report\n",
    "from sklearn.model_selection import train_test_split\n",
    "from sklearn.pipeline import Pipeline\n",
    "\n",
    "import os\n",
    "# from subprocess import check_output\n",
    "# print(check_output([\"ls\", \"../input\"]).decode(\"utf8\"))\n",
    "\n",
    "for dirname, _, filenames in os.walk('../input/sms-smishing-collection-data-set/smssmishcollection/SMSSmishCollection.txt'):\n",
    "    print(dirname)\n",
    "    for filename in filenames:\n",
    "        print(os.path.join(dirname, filename))\n",
    "\n",
    "# You can write up to 20GB to the current directory (/kaggle/working/) that gets preserved as output when you create a version using \"Save & Run All\" \n",
    "# You can also write temporary files to /kaggle/temp/, but they won't be saved outside of the current session"
   ]
  },
  {
   "cell_type": "code",
   "execution_count": 2,
   "id": "6a2f24a7",
   "metadata": {
    "execution": {
     "iopub.execute_input": "2024-04-12T18:53:45.689055Z",
     "iopub.status.busy": "2024-04-12T18:53:45.688267Z",
     "iopub.status.idle": "2024-04-12T18:53:45.697005Z",
     "shell.execute_reply": "2024-04-12T18:53:45.696334Z",
     "shell.execute_reply.started": "2024-04-12T18:11:24.027546Z"
    },
    "papermill": {
     "duration": 0.02254,
     "end_time": "2024-04-12T18:53:45.697193",
     "exception": false,
     "start_time": "2024-04-12T18:53:45.674653",
     "status": "completed"
    },
    "tags": []
   },
   "outputs": [],
   "source": [
    "STOPWORDS = set(stopwords.words('english'))"
   ]
  },
  {
   "cell_type": "code",
   "execution_count": 3,
   "id": "32e7e484",
   "metadata": {
    "execution": {
     "iopub.execute_input": "2024-04-12T18:53:45.717010Z",
     "iopub.status.busy": "2024-04-12T18:53:45.716236Z",
     "iopub.status.idle": "2024-04-12T18:53:45.722794Z",
     "shell.execute_reply": "2024-04-12T18:53:45.722107Z",
     "shell.execute_reply.started": "2024-04-12T18:11:24.057861Z"
    },
    "papermill": {
     "duration": 0.017676,
     "end_time": "2024-04-12T18:53:45.722975",
     "exception": false,
     "start_time": "2024-04-12T18:53:45.705299",
     "status": "completed"
    },
    "tags": []
   },
   "outputs": [],
   "source": [
    "def clean_text(text):\n",
    "    # convert to lowercase\n",
    "    text = text.lower()\n",
    "    # remove special characters\n",
    "    text = re.sub(r'[^0-9a-zA-Z]', ' ', text)\n",
    "    # remove extra spaces\n",
    "    text = re.sub(r'\\s+', ' ', text)\n",
    "    # remove stopwords\n",
    "    text = \" \".join(word for word in text.split() if word not in STOPWORDS)\n",
    "    return text"
   ]
  },
  {
   "cell_type": "code",
   "execution_count": 4,
   "id": "dfa4bae0",
   "metadata": {
    "execution": {
     "iopub.execute_input": "2024-04-12T18:53:45.742980Z",
     "iopub.status.busy": "2024-04-12T18:53:45.742162Z",
     "iopub.status.idle": "2024-04-12T18:53:45.749212Z",
     "shell.execute_reply": "2024-04-12T18:53:45.749830Z",
     "shell.execute_reply.started": "2024-04-12T18:11:24.068166Z"
    },
    "papermill": {
     "duration": 0.019017,
     "end_time": "2024-04-12T18:53:45.750032",
     "exception": false,
     "start_time": "2024-04-12T18:53:45.731015",
     "status": "completed"
    },
    "tags": []
   },
   "outputs": [],
   "source": [
    "def classify(model, X, y):\n",
    "    # train test split\n",
    "    x_train, x_test, y_train, y_test = train_test_split(X, y, test_size=0.25, random_state=42, shuffle=True, stratify=y)\n",
    "    # model training\n",
    "    pipeline_model = Pipeline([('vect', CountVectorizer()),\n",
    "                               ('tfidf', TfidfTransformer()),\n",
    "                               ('clf', model)])\n",
    "    pipeline_model.fit(x_train, y_train)\n",
    "\n",
    "    print('Accuracy:', pipeline_model.score(x_test, y_test) * 100)\n",
    "\n",
    "    y_pred = pipeline_model.predict(x_test)\n",
    "    print(classification_report(y_test, y_pred))"
   ]
  },
  {
   "cell_type": "code",
   "execution_count": 5,
   "id": "d5a06435",
   "metadata": {
    "execution": {
     "iopub.execute_input": "2024-04-12T18:53:45.772357Z",
     "iopub.status.busy": "2024-04-12T18:53:45.771404Z",
     "iopub.status.idle": "2024-04-12T18:53:47.707386Z",
     "shell.execute_reply": "2024-04-12T18:53:47.708033Z",
     "shell.execute_reply.started": "2024-04-12T18:11:24.083897Z"
    },
    "papermill": {
     "duration": 1.950264,
     "end_time": "2024-04-12T18:53:47.708235",
     "exception": false,
     "start_time": "2024-04-12T18:53:45.757971",
     "status": "completed"
    },
    "tags": []
   },
   "outputs": [
    {
     "name": "stdout",
     "output_type": "stream",
     "text": [
      "Accuracy: 97.20028715003589\n",
      "              precision    recall  f1-score   support\n",
      "\n",
      "         ham       0.97      1.00      0.98      1206\n",
      "        spam       1.00      0.79      0.88       187\n",
      "\n",
      "    accuracy                           0.97      1393\n",
      "   macro avg       0.98      0.90      0.93      1393\n",
      "weighted avg       0.97      0.97      0.97      1393\n",
      "\n"
     ]
    }
   ],
   "source": [
    "df = pd.read_csv('../input/datasetabhi/spam.csv', encoding='latin-1')\n",
    "df = df[['v2', 'v1']]\n",
    "df = df.rename(columns={'v2': 'messages', 'v1': 'label'})\n",
    "\n",
    "\n",
    "df['clean_text'] = df['messages'].apply(clean_text)\n",
    "X = df['clean_text']\n",
    "y = df['label']\n",
    "\n",
    "model = RandomForestClassifier()\n",
    "classify(model, X, y)\n",
    "\n"
   ]
  },
  {
   "cell_type": "code",
   "execution_count": null,
   "id": "04d88188",
   "metadata": {
    "papermill": {
     "duration": 0.008014,
     "end_time": "2024-04-12T18:53:47.724936",
     "exception": false,
     "start_time": "2024-04-12T18:53:47.716922",
     "status": "completed"
    },
    "tags": []
   },
   "outputs": [],
   "source": []
  }
 ],
 "metadata": {
  "kaggle": {
   "accelerator": "none",
   "dataSources": [
    {
     "datasetId": 922261,
     "sourceId": 1563992,
     "sourceType": "datasetVersion"
    },
    {
     "datasetId": 1272480,
     "sourceId": 2529325,
     "sourceType": "datasetVersion"
    }
   ],
   "dockerImageVersionId": 30145,
   "isGpuEnabled": false,
   "isInternetEnabled": false,
   "language": "python",
   "sourceType": "notebook"
  },
  "kernelspec": {
   "display_name": "Python 3",
   "language": "python",
   "name": "python3"
  },
  "language_info": {
   "codemirror_mode": {
    "name": "ipython",
    "version": 3
   },
   "file_extension": ".py",
   "mimetype": "text/x-python",
   "name": "python",
   "nbconvert_exporter": "python",
   "pygments_lexer": "ipython3",
   "version": "3.7.10"
  },
  "papermill": {
   "default_parameters": {},
   "duration": 17.369656,
   "end_time": "2024-04-12T18:53:48.547607",
   "environment_variables": {},
   "exception": null,
   "input_path": "__notebook__.ipynb",
   "output_path": "__notebook__.ipynb",
   "parameters": {},
   "start_time": "2024-04-12T18:53:31.177951",
   "version": "2.3.3"
  }
 },
 "nbformat": 4,
 "nbformat_minor": 5
}
